{
 "cells": [
  {
   "cell_type": "markdown",
   "metadata": {},
   "source": [
    "# Your Chemistry, Your Data, Your Insights"
   ]
  },
  {
   "cell_type": "markdown",
   "metadata": {},
   "source": [
    "# Jupyter Setup"
   ]
  },
  {
   "cell_type": "markdown",
   "metadata": {},
   "source": [
    "Assuming we are in the \"dm_public/01_Setup_Intro/notebooks\" directory, let's change to the base directory to keep consistency between paths in Jupyter and Python at the command line. If you did not launch Jupyter from the dm_public directory, do not execute this cell. And be sure to only run it once!"
   ]
  },
  {
   "cell_type": "code",
   "execution_count": 1,
   "metadata": {},
   "outputs": [
    {
     "name": "stdout",
     "output_type": "stream",
     "text": [
      "C:\\Users\\David Pattison\\Code\\dm_public\n"
     ]
    }
   ],
   "source": [
    "%cd ../.."
   ]
  },
  {
   "cell_type": "markdown",
   "metadata": {},
   "source": [
    "# Reading PCML\n",
    "Specify the PCML file we will work with in this notebook, and read it from disk into a Python object."
   ]
  },
  {
   "cell_type": "code",
   "execution_count": 2,
   "metadata": {},
   "outputs": [],
   "source": [
    "from lxml import etree\n",
    "\n",
    "pcml_recipe_file = './01_Setup_Intro/data/3a_recipe.pcml'\n",
    "\n",
    "pcml_obj = etree.parse(pcml_recipe_file)\n"
   ]
  },
  {
   "cell_type": "markdown",
   "metadata": {},
   "source": [
    "# Extracting Recipe Content"
   ]
  },
  {
   "cell_type": "code",
   "execution_count": 3,
   "metadata": {},
   "outputs": [
    {
     "name": "stdout",
     "output_type": "stream",
     "text": [
      "Chemical: 1-Naphthoyl chloride\n",
      "Chemical: N-(4-methylbenzenesulfonyl)naphthalene-1-carbohydrazide\n",
      "Chemical: 4-dimethylaminopyridine\n",
      "Chemical: p-toluenesulfonyl hydrazide\n",
      "Chemical: dichloromethane\n",
      "Chemical: triethylamine\n",
      "Chemical: saturated NH₄Cl solution\n",
      "Chemical: water\n",
      "Chemical: 10% aqueous citric acid solution\n",
      "Chemical: saturated sodium chloride solution\n",
      "Chemical: sodium sulfate\n",
      "Chemical: dichloromethane\n",
      "Chemical: hexane\n",
      "Chemical: 1,3,5-trimethoxybenzene\n"
     ]
    }
   ],
   "source": [
    "#list all the chemicals used\n",
    "chem_elem = pcml_obj.find(\".//chemicals\")\n",
    "for c in chem_elem:\n",
    "    print(\"Chemical: {}\".format(c[0].text))\n",
    "    "
   ]
  },
  {
   "cell_type": "code",
   "execution_count": 4,
   "metadata": {},
   "outputs": [
    {
     "name": "stdout",
     "output_type": "stream",
     "text": [
      "Found H318 code associated with recipe chemicals\n"
     ]
    }
   ],
   "source": [
    "#search for specific safety code\n",
    "import itertools\n",
    "\n",
    "code_to_search = \"H318\"\n",
    "has_code = len(pcml_obj.xpath('.//safetycode/code[text()=\"{}\"]'.format(code_to_search))) > 0\n",
    "print(\"{} {} code associated with recipe chemicals\".format(\"Found\" if has_code else \"Did not find\", code_to_search))\n"
   ]
  },
  {
   "cell_type": "code",
   "execution_count": 5,
   "metadata": {},
   "outputs": [
    {
     "name": "stdout",
     "output_type": "stream",
     "text": [
      "Found the following unique safety codes: ['H-N/A', 'H-Unknown', 'H225', 'H242', 'H301', 'H302', 'H304', 'H310', 'H311', 'H314', 'H315', 'H318', 'H319', 'H331', 'H335', 'H336', 'H351', 'H361d', 'H373', 'H411', 'H412', 'P-Unknown', 'P201', 'P210', 'P261', 'P264', 'P273', 'P280', 'P301', 'P302', 'P303', 'P304', 'P305', 'P308', 'P310', 'P312', 'P313', 'P330', 'P331', 'P337', 'P338', 'P340', 'P351', 'P352', 'P353', 'P361', 'P370', 'P378', 'R-N/A', 'R-Unknown', 'S-N/A', 'S-Unknown']\n"
     ]
    }
   ],
   "source": [
    "#List off safety codes\n",
    "safety_elem = pcml_obj.findall(\".//safetycode/code\")\n",
    "all_s_codes = [s.text for s in safety_elem]\n",
    "\n",
    "uniq_s_codes = set(itertools.chain.from_iterable([x.split(\" + \") for x in all_s_codes]))\n",
    "print(\"Found the following unique safety codes:\", sorted(uniq_s_codes))"
   ]
  },
  {
   "cell_type": "code",
   "execution_count": 6,
   "metadata": {},
   "outputs": [
    {
     "name": "stdout",
     "output_type": "stream",
     "text": [
      "Counter({'reagent': 4,\n",
      "         'solvent': 3,\n",
      "         'washing-solution': 3,\n",
      "         'starting-material': 1,\n",
      "         'product': 1,\n",
      "         'quenching-solution': 1,\n",
      "         'drying-agent': 1})\n"
     ]
    }
   ],
   "source": [
    "#extract and count roles of chemicals\n",
    "from collections import Counter\n",
    "import pprint\n",
    "\n",
    "role_elems = pcml_obj.xpath('.//chemicals/chemical')\n",
    "role_counts = Counter([r.get(\"role\", None) for r in role_elems])\n",
    "\n",
    "pp = pprint.PrettyPrinter()\n",
    "pp.pprint(role_counts)"
   ]
  },
  {
   "cell_type": "code",
   "execution_count": 28,
   "metadata": {},
   "outputs": [
    {
     "name": "stdout",
     "output_type": "stream",
     "text": [
      "synthesis has 30 operations\n",
      "isolation has 20 operations\n",
      "purification has 14 operations\n",
      "analysis has 14 operations\n",
      "characterisation has 6 operations\n"
     ]
    }
   ],
   "source": [
    "#get operation groupings by step\n",
    "from collections import defaultdict\n",
    "\n",
    "step_ops = defaultdict(list)\n",
    "op_elems = pcml_obj.xpath('/pcml/step/group/operation')      \n",
    "for oe in op_elems:\n",
    "    step_ops[oe.getparent().getparent().get(\"type\")].append(oe)\n",
    "\n",
    "            \n",
    "for step, ops in step_ops.items():\n",
    "    print(\"{} has {} operations\".format(step, len(ops)))\n",
    "    "
   ]
  },
  {
   "cell_type": "code",
   "execution_count": 25,
   "metadata": {},
   "outputs": [
    {
     "name": "stdout",
     "output_type": "stream",
     "text": [
      "Operation 1: The NCU should be powered and connected to the internet.\n",
      "Operation 2: All sensors used (i.e DeviceX, ESP, IKA hot plate) should be on.\n",
      "Operation 3: Pick up a clean, oven-dried, 1 L three-neck round bottom flask\n",
      "Operation 4: Secure the flask with a clamp on top of a stirring mantle.\n",
      "Operation 5: Add a 3 cm rod-shaped, Teflon coated, magnetic stirrer bar to the reaction flask.\n",
      "Operation 6: Attach a 50 mL dropping funnel to the reaction flask.\n",
      "Operation 7: Place DeviceX into one of the flask's side necks.\n",
      "Operation 8: Place a UV torch in a way that it shines on to the UV sensor.\n",
      "Operation 9: Turn the UV torch on.\n",
      "Operation 10: Stopper any left over open side necks with a rubber septum.\n",
      "Operation 11: Evacuate and refill the flask with argon twice.\n",
      "Operation 12: Weigh 1.83 g of 4-dimethylaminopyridine.\n",
      "Operation 13: Transfer it into the reaction flask.\n",
      "Operation 14: Weigh 14.0 g of p-toluenesulfonyl hydrazide.\n",
      "Operation 15: Transfer it into the reaction flask.\n",
      "Operation 16: Measure 350 mL of Dichloromethane.\n",
      "Operation 17: Transfer it into the reaction flask.\n",
      "Operation 18: Prepare an ice bath under the flask.\n",
      "Operation 19: Lower and secure the flask to sit into the ice bath.\n",
      "Operation 20: Turn on stirring to 1200rpm.\n",
      "Operation 21: Wait until the reaction solution temperature has reached 1 °C then click next.\n",
      "Operation 22: Stir the solution at 1 °C for 15 mins.\n",
      "Operation 23: Measure 15.8 mL of Triethylamine.\n",
      "Operation 24: Transfer it into the reaction flask.\n",
      "Operation 25: Measure 11.8 mL of 1-Naphthoyl chloride.\n",
      "Operation 26: Transfer it into the addition funnel.\n",
      "Operation 27: Measure out 30 mL of Dichloromethane.\n",
      "Operation 28: Transfer the solvent into the addition funnel.\n",
      "Operation 29: Add the solution from the dropping funnel dropwise over a period of 10 minutes.\n",
      "Operation 30: Allow the reaction to stir in an ice bath for 30 minutes.\n"
     ]
    }
   ],
   "source": [
    "for i, op in enumerate(step_ops.get(\"synthesis\"), 1):\n",
    "    print(\"Operation {}: {}\".format(i, op.find(\"text\").text))"
   ]
  }
 ],
 "metadata": {
  "kernelspec": {
   "display_name": "Python 3",
   "language": "python",
   "name": "python3"
  },
  "language_info": {
   "codemirror_mode": {
    "name": "ipython",
    "version": 3
   },
   "file_extension": ".py",
   "mimetype": "text/x-python",
   "name": "python",
   "nbconvert_exporter": "python",
   "pygments_lexer": "ipython3",
   "version": "3.7.0"
  }
 },
 "nbformat": 4,
 "nbformat_minor": 2
}
