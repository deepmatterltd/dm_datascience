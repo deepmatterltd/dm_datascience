{
 "cells": [
  {
   "cell_type": "markdown",
   "metadata": {},
   "source": [
    "# Your Chemistry, Your Data, Your Insights"
   ]
  },
  {
   "cell_type": "markdown",
   "metadata": {},
   "source": [
    "# Jupyter Setup"
   ]
  },
  {
   "cell_type": "markdown",
   "metadata": {},
   "source": [
    "Assuming we are in the \"dm_public/01_Setup_Intro/notebooks\" directory, let's change to the base directory to keep consistency between paths in Jupyter and Python at the command line. If you did not launch Jupyter from the dm_public directory, do not execute this cell. And be sure to only run it once!"
   ]
  },
  {
   "cell_type": "code",
   "execution_count": null,
   "metadata": {},
   "outputs": [],
   "source": [
    "%cd ../.."
   ]
  },
  {
   "cell_type": "markdown",
   "metadata": {},
   "source": [
    "# Reading PCML\n",
    "Specify the PCML file we will work with in this notebook, and read it from disk into a Python object."
   ]
  },
  {
   "cell_type": "code",
   "execution_count": null,
   "metadata": {},
   "outputs": [],
   "source": [
    "from lxml import etree\n",
    "\n",
    "pcml_recipe_file = './01_Setup_Intro/data/3a_recipe.pcml'\n",
    "\n",
    "pcml_obj = etree.parse(pcml_recipe_file)\n"
   ]
  },
  {
   "cell_type": "markdown",
   "metadata": {},
   "source": [
    "# Extracting Recipe Content"
   ]
  },
  {
   "cell_type": "code",
   "execution_count": null,
   "metadata": {},
   "outputs": [],
   "source": [
    "#list all the chemicals used\n",
    "chem_elem = pcml_obj.find(\".//chemicals\")\n",
    "for c in chem_elem:\n",
    "    print(\"Chemical: {}\".format(c[0].text))\n",
    "    "
   ]
  },
  {
   "cell_type": "code",
   "execution_count": null,
   "metadata": {},
   "outputs": [],
   "source": [
    "#search for specific safety code\n",
    "import itertools\n",
    "\n",
    "code_to_search = \"H318\"\n",
    "has_code = len(pcml_obj.xpath('.//safetycode/code[text()=\"{}\"]'.format(code_to_search))) > 0\n",
    "print(\"{} {} code associated with recipe chemicals\".format(\"Found\" if has_code else \"Did not find\", code_to_search))\n"
   ]
  },
  {
   "cell_type": "code",
   "execution_count": null,
   "metadata": {},
   "outputs": [],
   "source": [
    "#List off safety codes\n",
    "safety_elem = pcml_obj.findall(\".//safetycode/code\")\n",
    "all_s_codes = [s.text for s in safety_elem]\n",
    "\n",
    "uniq_s_codes = set(itertools.chain.from_iterable([x.split(\" + \") for x in all_s_codes]))\n",
    "print(\"Found the following unique safety codes:\", sorted(uniq_s_codes))"
   ]
  },
  {
   "cell_type": "code",
   "execution_count": null,
   "metadata": {},
   "outputs": [],
   "source": [
    "#extract and count roles of chemicals\n",
    "from collections import Counter\n",
    "import pprint\n",
    "\n",
    "role_elems = pcml_obj.xpath('.//chemicals/chemical')\n",
    "role_counts = Counter([r.get(\"role\", None) for r in role_elems])\n",
    "\n",
    "pp = pprint.PrettyPrinter()\n",
    "pp.pprint(role_counts)"
   ]
  },
  {
   "cell_type": "code",
   "execution_count": null,
   "metadata": {},
   "outputs": [],
   "source": [
    "#get operation groupings by step\n",
    "from collections import defaultdict\n",
    "\n",
    "step_ops = defaultdict(list)\n",
    "op_elems = pcml_obj.xpath('/pcml/step/group/operation')      \n",
    "for oe in op_elems:\n",
    "    step_ops[oe.getparent().getparent().get(\"type\")].append(oe)\n",
    "\n",
    "            \n",
    "for step, ops in step_ops.items():\n",
    "    print(\"{} has {} operations\".format(step, len(ops)))\n",
    "    "
   ]
  },
  {
   "cell_type": "code",
   "execution_count": null,
   "metadata": {},
   "outputs": [],
   "source": [
    "for i, op in enumerate(step_ops.get(\"synthesis\"), 1):\n",
    "    print(\"Operation {}: {}\".format(i, op.find(\"text\").text))"
   ]
  }
 ],
 "metadata": {
  "kernelspec": {
   "display_name": "Python 3",
   "language": "python",
   "name": "python3"
  },
  "language_info": {
   "codemirror_mode": {
    "name": "ipython",
    "version": 3
   },
   "file_extension": ".py",
   "mimetype": "text/x-python",
   "name": "python",
   "nbconvert_exporter": "python",
   "pygments_lexer": "ipython3",
   "version": "3.7.0"
  }
 },
 "nbformat": 4,
 "nbformat_minor": 2
}
